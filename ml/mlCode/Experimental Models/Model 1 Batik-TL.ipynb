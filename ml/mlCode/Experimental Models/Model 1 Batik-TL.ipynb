{
 "cells": [
  {
   "cell_type": "code",
   "execution_count": 2,
   "id": "7685b79e",
   "metadata": {},
   "outputs": [],
   "source": [
    "import os\n",
    "import tensorflow as tf\n",
    "from tensorflow import keras\n",
    "import tensorflow_hub as hub\n",
    "from tensorflow.keras import layers\n",
    "from tensorflow.keras.preprocessing.image import ImageDataGenerator\n",
    "from keras.optimizers import Adam,SGD,Adagrad,Adadelta,RMSprop"
   ]
  },
  {
   "cell_type": "code",
   "execution_count": 3,
   "id": "1eeff1ba",
   "metadata": {},
   "outputs": [],
   "source": [
    "train_path = os.path.join('./data/DATASETv7/TRAIN')\n",
    "val_path = os.path.join('./data/DATASETv7/TEST')\n",
    "img_size = 224\n",
    "batch_size = 80"
   ]
  },
  {
   "cell_type": "code",
   "execution_count": 4,
   "id": "0efb5029",
   "metadata": {},
   "outputs": [
    {
     "name": "stdout",
     "output_type": "stream",
     "text": [
      "Found 1050 images belonging to 15 classes.\n",
      "Found 300 images belonging to 15 classes.\n"
     ]
    }
   ],
   "source": [
    "train_datagen = ImageDataGenerator(\n",
    "    rescale = 1./255,\n",
    "#     shear_range = 0.2,\n",
    "#     rotation_range = 10,\n",
    "#     zoom_range = 0.2,\n",
    "#     horizontal_flip = True,\n",
    "#     vertical_flip = True,\n",
    ")\n",
    "\n",
    "val_datagen = ImageDataGenerator(\n",
    "    rescale = 1./255,\n",
    ")\n",
    "\n",
    "train_generator = train_datagen.flow_from_directory(\n",
    "    train_path,\n",
    "    target_size = (img_size, img_size),\n",
    "    class_mode = 'categorical',\n",
    ")\n",
    "\n",
    "val_generator = val_datagen.flow_from_directory(\n",
    "    val_path,\n",
    "    target_size = (img_size, img_size),\n",
    "    class_mode = 'categorical',\n",
    ")"
   ]
  },
  {
   "cell_type": "code",
   "execution_count": 5,
   "id": "f1231d5a",
   "metadata": {},
   "outputs": [
    {
     "name": "stdout",
     "output_type": "stream",
     "text": [
      "WARNING:tensorflow:Please fix your imports. Module tensorflow.python.training.tracking.data_structures has been moved to tensorflow.python.trackable.data_structures. The old module will be deleted in version 2.11.\n"
     ]
    }
   ],
   "source": [
    "mobilenet_v2 =\"https://tfhub.dev/google/tf2-preview/mobilenet_v2/classification/4\"\n",
    "inception_v3 = \"https://tfhub.dev/google/imagenet/inception_v3/classification/5\"\n",
    "\n",
    "classifier_model = mobilenet_v2\n",
    "\n",
    "IMAGE_SHAPE = (224, 224)\n",
    "\n",
    "feature_extractor = hub.KerasLayer(classifier_model, input_shape=IMAGE_SHAPE+(3,))"
   ]
  },
  {
   "cell_type": "code",
   "execution_count": 6,
   "id": "7fc7bbce",
   "metadata": {},
   "outputs": [
    {
     "name": "stdout",
     "output_type": "stream",
     "text": [
      "Model: \"sequential\"\n",
      "_________________________________________________________________\n",
      " Layer (type)                Output Shape              Param #   \n",
      "=================================================================\n",
      " keras_layer (KerasLayer)    (None, 1001)              3540265   \n",
      "                                                                 \n",
      " flatten (Flatten)           (None, 1001)              0         \n",
      "                                                                 \n",
      " dropout (Dropout)           (None, 1001)              0         \n",
      "                                                                 \n",
      " dense (Dense)               (None, 64)                64128     \n",
      "                                                                 \n",
      " dense_1 (Dense)             (None, 15)                975       \n",
      "                                                                 \n",
      "=================================================================\n",
      "Total params: 3,605,368\n",
      "Trainable params: 65,103\n",
      "Non-trainable params: 3,540,265\n",
      "_________________________________________________________________\n"
     ]
    }
   ],
   "source": [
    "model = tf.keras.models.Sequential([\n",
    "    feature_extractor,\n",
    "    tf.keras.layers.Flatten(),\n",
    "    tf.keras.layers.Dropout(0.5),\n",
    "    # 512 neuron hidden layer\n",
    "    tf.keras.layers.Dense(64, activation='relu'),\n",
    "    # Only 1 output neuron. It will contain a value from 0-1 where 0 for 1 class ('horses') and 1 for the other ('humans')\n",
    "    tf.keras.layers.Dense(15, activation='softmax')\n",
    "])\n",
    "\n",
    "# Print the model summary\n",
    "model.summary()"
   ]
  },
  {
   "cell_type": "code",
   "execution_count": 9,
   "id": "4b2a6fdd",
   "metadata": {},
   "outputs": [],
   "source": [
    "# Set the training parameters\n",
    "model.compile(loss = 'categorical_crossentropy', \n",
    "              optimizer = Adam(), \n",
    "              metrics=['accuracy'])"
   ]
  },
  {
   "cell_type": "code",
   "execution_count": 10,
   "id": "0daeec9d",
   "metadata": {},
   "outputs": [
    {
     "name": "stdout",
     "output_type": "stream",
     "text": [
      "Epoch 1/20\n",
      "33/33 [==============================] - 26s 708ms/step - loss: 3.0460 - accuracy: 0.1943 - val_loss: 1.7936 - val_accuracy: 0.4567\n",
      "Epoch 2/20\n",
      "33/33 [==============================] - 23s 685ms/step - loss: 1.7078 - accuracy: 0.4543 - val_loss: 1.3745 - val_accuracy: 0.5900\n",
      "Epoch 3/20\n",
      "33/33 [==============================] - 22s 665ms/step - loss: 1.3166 - accuracy: 0.5867 - val_loss: 1.2178 - val_accuracy: 0.6333\n",
      "Epoch 4/20\n",
      "33/33 [==============================] - 21s 641ms/step - loss: 1.0705 - accuracy: 0.6457 - val_loss: 1.1120 - val_accuracy: 0.6500\n",
      "Epoch 5/20\n",
      "33/33 [==============================] - 21s 643ms/step - loss: 0.9144 - accuracy: 0.7057 - val_loss: 1.0798 - val_accuracy: 0.6433\n",
      "Epoch 6/20\n",
      "33/33 [==============================] - 21s 646ms/step - loss: 0.7705 - accuracy: 0.7457 - val_loss: 1.0147 - val_accuracy: 0.6600\n",
      "Epoch 7/20\n",
      "33/33 [==============================] - 21s 643ms/step - loss: 0.6954 - accuracy: 0.7752 - val_loss: 1.0191 - val_accuracy: 0.6633\n",
      "Epoch 8/20\n",
      "33/33 [==============================] - 21s 639ms/step - loss: 0.5968 - accuracy: 0.8067 - val_loss: 1.0164 - val_accuracy: 0.6933\n",
      "Epoch 9/20\n",
      "33/33 [==============================] - 23s 702ms/step - loss: 0.5181 - accuracy: 0.8190 - val_loss: 0.9714 - val_accuracy: 0.6933\n",
      "Epoch 10/20\n",
      "33/33 [==============================] - 21s 649ms/step - loss: 0.5008 - accuracy: 0.8295 - val_loss: 0.9588 - val_accuracy: 0.7100\n",
      "Epoch 11/20\n",
      "33/33 [==============================] - 21s 644ms/step - loss: 0.4413 - accuracy: 0.8533 - val_loss: 0.9757 - val_accuracy: 0.7000\n",
      "Epoch 12/20\n",
      "33/33 [==============================] - 21s 648ms/step - loss: 0.4008 - accuracy: 0.8743 - val_loss: 0.9625 - val_accuracy: 0.7167\n",
      "Epoch 13/20\n",
      "33/33 [==============================] - 22s 678ms/step - loss: 0.3231 - accuracy: 0.8886 - val_loss: 1.0075 - val_accuracy: 0.7033\n",
      "Epoch 14/20\n",
      "33/33 [==============================] - 22s 671ms/step - loss: 0.3185 - accuracy: 0.8905 - val_loss: 1.0461 - val_accuracy: 0.7100\n",
      "Epoch 15/20\n",
      "33/33 [==============================] - 22s 673ms/step - loss: 0.2853 - accuracy: 0.9152 - val_loss: 1.0225 - val_accuracy: 0.7233\n",
      "Epoch 16/20\n",
      "33/33 [==============================] - 23s 697ms/step - loss: 0.2627 - accuracy: 0.9029 - val_loss: 1.0521 - val_accuracy: 0.7067\n",
      "Epoch 17/20\n",
      "33/33 [==============================] - 22s 658ms/step - loss: 0.2611 - accuracy: 0.9086 - val_loss: 1.1056 - val_accuracy: 0.6900\n",
      "Epoch 18/20\n",
      "33/33 [==============================] - 22s 669ms/step - loss: 0.2154 - accuracy: 0.9333 - val_loss: 1.0805 - val_accuracy: 0.7200\n",
      "Epoch 19/20\n",
      "33/33 [==============================] - 22s 670ms/step - loss: 0.2274 - accuracy: 0.9343 - val_loss: 1.0859 - val_accuracy: 0.7333\n",
      "Epoch 20/20\n",
      "33/33 [==============================] - 22s 677ms/step - loss: 0.1957 - accuracy: 0.9362 - val_loss: 1.0780 - val_accuracy: 0.7133\n"
     ]
    }
   ],
   "source": [
    "# Train the model\n",
    "history = model.fit(train_generator, \n",
    "                    epochs=20, \n",
    "                    validation_data = val_generator) "
   ]
  },
  {
   "cell_type": "code",
   "execution_count": 11,
   "id": "90f2e064",
   "metadata": {},
   "outputs": [
    {
     "name": "stdout",
     "output_type": "stream",
     "text": [
      "Epoch 1/20\n",
      "33/33 [==============================] - 22s 678ms/step - loss: 0.1896 - accuracy: 0.9362 - val_loss: 1.1094 - val_accuracy: 0.7300\n",
      "Epoch 2/20\n",
      "33/33 [==============================] - 23s 699ms/step - loss: 0.1726 - accuracy: 0.9448 - val_loss: 1.0801 - val_accuracy: 0.7333\n",
      "Epoch 3/20\n",
      "33/33 [==============================] - 23s 706ms/step - loss: 0.1677 - accuracy: 0.9505 - val_loss: 1.0863 - val_accuracy: 0.7200\n",
      "Epoch 4/20\n",
      "33/33 [==============================] - 22s 683ms/step - loss: 0.1853 - accuracy: 0.9400 - val_loss: 1.1063 - val_accuracy: 0.7267\n",
      "Epoch 5/20\n",
      "33/33 [==============================] - 22s 669ms/step - loss: 0.1769 - accuracy: 0.9333 - val_loss: 1.0959 - val_accuracy: 0.7200\n",
      "Epoch 6/20\n",
      "33/33 [==============================] - 23s 685ms/step - loss: 0.1411 - accuracy: 0.9562 - val_loss: 1.0619 - val_accuracy: 0.7333\n",
      "Epoch 7/20\n",
      "33/33 [==============================] - 22s 676ms/step - loss: 0.1362 - accuracy: 0.9524 - val_loss: 1.1186 - val_accuracy: 0.7133\n",
      "Epoch 8/20\n",
      "33/33 [==============================] - 22s 668ms/step - loss: 0.1343 - accuracy: 0.9581 - val_loss: 1.0869 - val_accuracy: 0.7367\n",
      "Epoch 9/20\n",
      "33/33 [==============================] - 22s 662ms/step - loss: 0.1249 - accuracy: 0.9590 - val_loss: 1.1154 - val_accuracy: 0.7400\n",
      "Epoch 10/20\n",
      "33/33 [==============================] - 22s 656ms/step - loss: 0.1261 - accuracy: 0.9619 - val_loss: 1.1031 - val_accuracy: 0.7333\n",
      "Epoch 11/20\n",
      "33/33 [==============================] - 21s 648ms/step - loss: 0.1174 - accuracy: 0.9629 - val_loss: 1.0875 - val_accuracy: 0.7633\n",
      "Epoch 12/20\n",
      "33/33 [==============================] - 22s 663ms/step - loss: 0.1089 - accuracy: 0.9686 - val_loss: 1.1197 - val_accuracy: 0.7400\n",
      "Epoch 13/20\n",
      "33/33 [==============================] - 23s 702ms/step - loss: 0.1064 - accuracy: 0.9714 - val_loss: 1.1093 - val_accuracy: 0.7500\n",
      "Epoch 14/20\n",
      "33/33 [==============================] - 23s 688ms/step - loss: 0.0920 - accuracy: 0.9714 - val_loss: 1.1159 - val_accuracy: 0.7533\n",
      "Epoch 15/20\n",
      "33/33 [==============================] - 23s 690ms/step - loss: 0.0977 - accuracy: 0.9648 - val_loss: 1.1199 - val_accuracy: 0.7400\n",
      "Epoch 16/20\n",
      "33/33 [==============================] - 23s 690ms/step - loss: 0.0872 - accuracy: 0.9705 - val_loss: 1.1582 - val_accuracy: 0.7400\n",
      "Epoch 17/20\n",
      "33/33 [==============================] - 23s 699ms/step - loss: 0.1012 - accuracy: 0.9733 - val_loss: 1.1673 - val_accuracy: 0.7267\n",
      "Epoch 18/20\n",
      "33/33 [==============================] - 23s 690ms/step - loss: 0.0900 - accuracy: 0.9724 - val_loss: 1.1739 - val_accuracy: 0.7233\n",
      "Epoch 19/20\n",
      "33/33 [==============================] - 23s 686ms/step - loss: 0.0816 - accuracy: 0.9733 - val_loss: 1.1920 - val_accuracy: 0.7300\n",
      "Epoch 20/20\n",
      "33/33 [==============================] - 23s 689ms/step - loss: 0.0845 - accuracy: 0.9752 - val_loss: 1.1495 - val_accuracy: 0.7400\n"
     ]
    }
   ],
   "source": [
    "history = model.fit(train_generator, \n",
    "                    epochs=20, \n",
    "                    validation_data = val_generator)"
   ]
  },
  {
   "cell_type": "code",
   "execution_count": null,
   "id": "b4741b34",
   "metadata": {},
   "outputs": [],
   "source": []
  }
 ],
 "metadata": {
  "kernelspec": {
   "display_name": "Python 3 (ipykernel)",
   "language": "python",
   "name": "python3"
  },
  "language_info": {
   "codemirror_mode": {
    "name": "ipython",
    "version": 3
   },
   "file_extension": ".py",
   "mimetype": "text/x-python",
   "name": "python",
   "nbconvert_exporter": "python",
   "pygments_lexer": "ipython3",
   "version": "3.11.0"
  }
 },
 "nbformat": 4,
 "nbformat_minor": 5
}
